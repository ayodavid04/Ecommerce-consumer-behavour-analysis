{
 "cells": [
  {
   "cell_type": "code",
   "execution_count": 1,
   "metadata": {},
   "outputs": [],
   "source": [
    "import numpy as numpy\n",
    "import pandas as pd\n",
    "import matplotlib.pyplot as plt\n",
    "import seaborn as sns"
   ]
  },
  {
   "cell_type": "code",
   "execution_count": 2,
   "metadata": {},
   "outputs": [
    {
     "data": {
      "text/html": [
       "<div>\n",
       "<style scoped>\n",
       "    .dataframe tbody tr th:only-of-type {\n",
       "        vertical-align: middle;\n",
       "    }\n",
       "\n",
       "    .dataframe tbody tr th {\n",
       "        vertical-align: top;\n",
       "    }\n",
       "\n",
       "    .dataframe thead th {\n",
       "        text-align: right;\n",
       "    }\n",
       "</style>\n",
       "<table border=\"1\" class=\"dataframe\">\n",
       "  <thead>\n",
       "    <tr style=\"text-align: right;\">\n",
       "      <th></th>\n",
       "      <th>Customer_ID</th>\n",
       "      <th>Age</th>\n",
       "      <th>Gender</th>\n",
       "      <th>Income_Level</th>\n",
       "      <th>Marital_Status</th>\n",
       "      <th>Education_Level</th>\n",
       "      <th>Occupation</th>\n",
       "      <th>Location</th>\n",
       "      <th>Purchase_Category</th>\n",
       "      <th>Purchase_Amount</th>\n",
       "      <th>...</th>\n",
       "      <th>Customer_Satisfaction</th>\n",
       "      <th>Engagement_with_Ads</th>\n",
       "      <th>Device_Used_for_Shopping</th>\n",
       "      <th>Payment_Method</th>\n",
       "      <th>Time_of_Purchase</th>\n",
       "      <th>Discount_Used</th>\n",
       "      <th>Customer_Loyalty_Program_Member</th>\n",
       "      <th>Purchase_Intent</th>\n",
       "      <th>Shipping_Preference</th>\n",
       "      <th>Time_to_Decision</th>\n",
       "    </tr>\n",
       "  </thead>\n",
       "  <tbody>\n",
       "    <tr>\n",
       "      <th>0</th>\n",
       "      <td>37-611-6911</td>\n",
       "      <td>22</td>\n",
       "      <td>Female</td>\n",
       "      <td>Middle</td>\n",
       "      <td>Married</td>\n",
       "      <td>Bachelor's</td>\n",
       "      <td>Middle</td>\n",
       "      <td>Évry</td>\n",
       "      <td>Gardening &amp; Outdoors</td>\n",
       "      <td>$333.80</td>\n",
       "      <td>...</td>\n",
       "      <td>7</td>\n",
       "      <td>NaN</td>\n",
       "      <td>Tablet</td>\n",
       "      <td>Credit Card</td>\n",
       "      <td>3/1/2024</td>\n",
       "      <td>True</td>\n",
       "      <td>False</td>\n",
       "      <td>Need-based</td>\n",
       "      <td>No Preference</td>\n",
       "      <td>2</td>\n",
       "    </tr>\n",
       "    <tr>\n",
       "      <th>1</th>\n",
       "      <td>29-392-9296</td>\n",
       "      <td>49</td>\n",
       "      <td>Male</td>\n",
       "      <td>High</td>\n",
       "      <td>Married</td>\n",
       "      <td>High School</td>\n",
       "      <td>High</td>\n",
       "      <td>Huocheng</td>\n",
       "      <td>Food &amp; Beverages</td>\n",
       "      <td>$222.22</td>\n",
       "      <td>...</td>\n",
       "      <td>5</td>\n",
       "      <td>High</td>\n",
       "      <td>Tablet</td>\n",
       "      <td>PayPal</td>\n",
       "      <td>4/16/2024</td>\n",
       "      <td>True</td>\n",
       "      <td>False</td>\n",
       "      <td>Wants-based</td>\n",
       "      <td>Standard</td>\n",
       "      <td>6</td>\n",
       "    </tr>\n",
       "    <tr>\n",
       "      <th>2</th>\n",
       "      <td>84-649-5117</td>\n",
       "      <td>24</td>\n",
       "      <td>Female</td>\n",
       "      <td>Middle</td>\n",
       "      <td>Single</td>\n",
       "      <td>Master's</td>\n",
       "      <td>High</td>\n",
       "      <td>Huzhen</td>\n",
       "      <td>Office Supplies</td>\n",
       "      <td>$426.22</td>\n",
       "      <td>...</td>\n",
       "      <td>7</td>\n",
       "      <td>Low</td>\n",
       "      <td>Smartphone</td>\n",
       "      <td>Debit Card</td>\n",
       "      <td>3/15/2024</td>\n",
       "      <td>True</td>\n",
       "      <td>True</td>\n",
       "      <td>Impulsive</td>\n",
       "      <td>No Preference</td>\n",
       "      <td>3</td>\n",
       "    </tr>\n",
       "    <tr>\n",
       "      <th>3</th>\n",
       "      <td>48-980-6078</td>\n",
       "      <td>29</td>\n",
       "      <td>Female</td>\n",
       "      <td>Middle</td>\n",
       "      <td>Single</td>\n",
       "      <td>Master's</td>\n",
       "      <td>Middle</td>\n",
       "      <td>Wiwilí</td>\n",
       "      <td>Home Appliances</td>\n",
       "      <td>$101.31</td>\n",
       "      <td>...</td>\n",
       "      <td>1</td>\n",
       "      <td>NaN</td>\n",
       "      <td>Smartphone</td>\n",
       "      <td>Other</td>\n",
       "      <td>10/4/2024</td>\n",
       "      <td>True</td>\n",
       "      <td>True</td>\n",
       "      <td>Need-based</td>\n",
       "      <td>Express</td>\n",
       "      <td>10</td>\n",
       "    </tr>\n",
       "    <tr>\n",
       "      <th>4</th>\n",
       "      <td>91-170-9072</td>\n",
       "      <td>33</td>\n",
       "      <td>Female</td>\n",
       "      <td>Middle</td>\n",
       "      <td>Widowed</td>\n",
       "      <td>High School</td>\n",
       "      <td>Middle</td>\n",
       "      <td>Nara</td>\n",
       "      <td>Furniture</td>\n",
       "      <td>$211.70</td>\n",
       "      <td>...</td>\n",
       "      <td>10</td>\n",
       "      <td>NaN</td>\n",
       "      <td>Smartphone</td>\n",
       "      <td>Debit Card</td>\n",
       "      <td>1/30/2024</td>\n",
       "      <td>False</td>\n",
       "      <td>False</td>\n",
       "      <td>Wants-based</td>\n",
       "      <td>No Preference</td>\n",
       "      <td>4</td>\n",
       "    </tr>\n",
       "  </tbody>\n",
       "</table>\n",
       "<p>5 rows × 28 columns</p>\n",
       "</div>"
      ],
      "text/plain": [
       "   Customer_ID  Age  Gender Income_Level Marital_Status Education_Level  \\\n",
       "0  37-611-6911   22  Female       Middle        Married      Bachelor's   \n",
       "1  29-392-9296   49    Male         High        Married     High School   \n",
       "2  84-649-5117   24  Female       Middle         Single        Master's   \n",
       "3  48-980-6078   29  Female       Middle         Single        Master's   \n",
       "4  91-170-9072   33  Female       Middle        Widowed     High School   \n",
       "\n",
       "  Occupation  Location     Purchase_Category Purchase_Amount  ...  \\\n",
       "0     Middle      Évry  Gardening & Outdoors        $333.80   ...   \n",
       "1       High  Huocheng      Food & Beverages        $222.22   ...   \n",
       "2       High    Huzhen       Office Supplies        $426.22   ...   \n",
       "3     Middle    Wiwilí       Home Appliances        $101.31   ...   \n",
       "4     Middle      Nara             Furniture        $211.70   ...   \n",
       "\n",
       "   Customer_Satisfaction Engagement_with_Ads  Device_Used_for_Shopping  \\\n",
       "0                      7                 NaN                    Tablet   \n",
       "1                      5                High                    Tablet   \n",
       "2                      7                 Low                Smartphone   \n",
       "3                      1                 NaN                Smartphone   \n",
       "4                     10                 NaN                Smartphone   \n",
       "\n",
       "   Payment_Method  Time_of_Purchase Discount_Used  \\\n",
       "0     Credit Card          3/1/2024          True   \n",
       "1          PayPal         4/16/2024          True   \n",
       "2      Debit Card         3/15/2024          True   \n",
       "3           Other         10/4/2024          True   \n",
       "4      Debit Card         1/30/2024         False   \n",
       "\n",
       "  Customer_Loyalty_Program_Member  Purchase_Intent  Shipping_Preference  \\\n",
       "0                           False       Need-based        No Preference   \n",
       "1                           False      Wants-based             Standard   \n",
       "2                            True        Impulsive        No Preference   \n",
       "3                            True       Need-based              Express   \n",
       "4                           False      Wants-based        No Preference   \n",
       "\n",
       "  Time_to_Decision  \n",
       "0                2  \n",
       "1                6  \n",
       "2                3  \n",
       "3               10  \n",
       "4                4  \n",
       "\n",
       "[5 rows x 28 columns]"
      ]
     },
     "execution_count": 2,
     "metadata": {},
     "output_type": "execute_result"
    }
   ],
   "source": [
    "ecommerce_data = pd.read_csv('Ecommerce_Consumer_Behavior_Analysis_Data.csv') #read the data into a pandas dataframe with variable name ecommerce_data\n",
    "ecommerce_data.head()"
   ]
  },
  {
   "cell_type": "code",
   "execution_count": 3,
   "metadata": {},
   "outputs": [
    {
     "data": {
      "text/html": [
       "<div>\n",
       "<style scoped>\n",
       "    .dataframe tbody tr th:only-of-type {\n",
       "        vertical-align: middle;\n",
       "    }\n",
       "\n",
       "    .dataframe tbody tr th {\n",
       "        vertical-align: top;\n",
       "    }\n",
       "\n",
       "    .dataframe thead th {\n",
       "        text-align: right;\n",
       "    }\n",
       "</style>\n",
       "<table border=\"1\" class=\"dataframe\">\n",
       "  <thead>\n",
       "    <tr style=\"text-align: right;\">\n",
       "      <th></th>\n",
       "      <th>Customer_ID</th>\n",
       "      <th>Age</th>\n",
       "      <th>Gender</th>\n",
       "      <th>Income_Level</th>\n",
       "      <th>Marital_Status</th>\n",
       "      <th>Education_Level</th>\n",
       "      <th>Occupation</th>\n",
       "      <th>Location</th>\n",
       "      <th>Purchase_Category</th>\n",
       "      <th>Purchase_Amount</th>\n",
       "      <th>...</th>\n",
       "      <th>Customer_Satisfaction</th>\n",
       "      <th>Engagement_with_Ads</th>\n",
       "      <th>Device_Used_for_Shopping</th>\n",
       "      <th>Payment_Method</th>\n",
       "      <th>Time_of_Purchase</th>\n",
       "      <th>Discount_Used</th>\n",
       "      <th>Customer_Loyalty_Program_Member</th>\n",
       "      <th>Purchase_Intent</th>\n",
       "      <th>Shipping_Preference</th>\n",
       "      <th>Time_to_Decision</th>\n",
       "    </tr>\n",
       "  </thead>\n",
       "  <tbody>\n",
       "    <tr>\n",
       "      <th>995</th>\n",
       "      <td>20-562-2569</td>\n",
       "      <td>44</td>\n",
       "      <td>Female</td>\n",
       "      <td>High</td>\n",
       "      <td>Divorced</td>\n",
       "      <td>Bachelor's</td>\n",
       "      <td>High</td>\n",
       "      <td>Aramayuan</td>\n",
       "      <td>Mobile Accessories</td>\n",
       "      <td>$463.67</td>\n",
       "      <td>...</td>\n",
       "      <td>4</td>\n",
       "      <td>NaN</td>\n",
       "      <td>Tablet</td>\n",
       "      <td>PayPal</td>\n",
       "      <td>7/7/2024</td>\n",
       "      <td>True</td>\n",
       "      <td>False</td>\n",
       "      <td>Need-based</td>\n",
       "      <td>Standard</td>\n",
       "      <td>5</td>\n",
       "    </tr>\n",
       "    <tr>\n",
       "      <th>996</th>\n",
       "      <td>41-366-4205</td>\n",
       "      <td>50</td>\n",
       "      <td>Female</td>\n",
       "      <td>High</td>\n",
       "      <td>Single</td>\n",
       "      <td>High School</td>\n",
       "      <td>Middle</td>\n",
       "      <td>Paquera</td>\n",
       "      <td>Gardening &amp; Outdoors</td>\n",
       "      <td>$69.78</td>\n",
       "      <td>...</td>\n",
       "      <td>6</td>\n",
       "      <td>Low</td>\n",
       "      <td>Tablet</td>\n",
       "      <td>Cash</td>\n",
       "      <td>3/28/2024</td>\n",
       "      <td>True</td>\n",
       "      <td>False</td>\n",
       "      <td>Wants-based</td>\n",
       "      <td>No Preference</td>\n",
       "      <td>9</td>\n",
       "    </tr>\n",
       "    <tr>\n",
       "      <th>997</th>\n",
       "      <td>77-241-7621</td>\n",
       "      <td>26</td>\n",
       "      <td>Male</td>\n",
       "      <td>High</td>\n",
       "      <td>Married</td>\n",
       "      <td>Bachelor's</td>\n",
       "      <td>High</td>\n",
       "      <td>Warudoyong</td>\n",
       "      <td>Food &amp; Beverages</td>\n",
       "      <td>$453.37</td>\n",
       "      <td>...</td>\n",
       "      <td>6</td>\n",
       "      <td>High</td>\n",
       "      <td>Desktop</td>\n",
       "      <td>Credit Card</td>\n",
       "      <td>3/11/2024</td>\n",
       "      <td>True</td>\n",
       "      <td>True</td>\n",
       "      <td>Wants-based</td>\n",
       "      <td>Express</td>\n",
       "      <td>9</td>\n",
       "    </tr>\n",
       "    <tr>\n",
       "      <th>998</th>\n",
       "      <td>53-091-2176</td>\n",
       "      <td>21</td>\n",
       "      <td>Female</td>\n",
       "      <td>High</td>\n",
       "      <td>Widowed</td>\n",
       "      <td>Bachelor's</td>\n",
       "      <td>Middle</td>\n",
       "      <td>Béziers</td>\n",
       "      <td>Baby Products</td>\n",
       "      <td>$106.15</td>\n",
       "      <td>...</td>\n",
       "      <td>5</td>\n",
       "      <td>Medium</td>\n",
       "      <td>Desktop</td>\n",
       "      <td>Cash</td>\n",
       "      <td>3/30/2024</td>\n",
       "      <td>True</td>\n",
       "      <td>True</td>\n",
       "      <td>Impulsive</td>\n",
       "      <td>Standard</td>\n",
       "      <td>8</td>\n",
       "    </tr>\n",
       "    <tr>\n",
       "      <th>999</th>\n",
       "      <td>48-203-9118</td>\n",
       "      <td>21</td>\n",
       "      <td>Female</td>\n",
       "      <td>Middle</td>\n",
       "      <td>Single</td>\n",
       "      <td>High School</td>\n",
       "      <td>High</td>\n",
       "      <td>Dongzhou</td>\n",
       "      <td>Health Care</td>\n",
       "      <td>$378.47</td>\n",
       "      <td>...</td>\n",
       "      <td>10</td>\n",
       "      <td>Low</td>\n",
       "      <td>Tablet</td>\n",
       "      <td>Other</td>\n",
       "      <td>12/8/2024</td>\n",
       "      <td>False</td>\n",
       "      <td>False</td>\n",
       "      <td>Planned</td>\n",
       "      <td>Express</td>\n",
       "      <td>2</td>\n",
       "    </tr>\n",
       "  </tbody>\n",
       "</table>\n",
       "<p>5 rows × 28 columns</p>\n",
       "</div>"
      ],
      "text/plain": [
       "     Customer_ID  Age  Gender Income_Level Marital_Status Education_Level  \\\n",
       "995  20-562-2569   44  Female         High       Divorced      Bachelor's   \n",
       "996  41-366-4205   50  Female         High         Single     High School   \n",
       "997  77-241-7621   26    Male         High        Married      Bachelor's   \n",
       "998  53-091-2176   21  Female         High        Widowed      Bachelor's   \n",
       "999  48-203-9118   21  Female       Middle         Single     High School   \n",
       "\n",
       "    Occupation    Location     Purchase_Category Purchase_Amount  ...  \\\n",
       "995       High   Aramayuan    Mobile Accessories        $463.67   ...   \n",
       "996     Middle     Paquera  Gardening & Outdoors         $69.78   ...   \n",
       "997       High  Warudoyong      Food & Beverages        $453.37   ...   \n",
       "998     Middle     Béziers         Baby Products        $106.15   ...   \n",
       "999       High    Dongzhou           Health Care        $378.47   ...   \n",
       "\n",
       "     Customer_Satisfaction Engagement_with_Ads  Device_Used_for_Shopping  \\\n",
       "995                      4                 NaN                    Tablet   \n",
       "996                      6                 Low                    Tablet   \n",
       "997                      6                High                   Desktop   \n",
       "998                      5              Medium                   Desktop   \n",
       "999                     10                 Low                    Tablet   \n",
       "\n",
       "     Payment_Method  Time_of_Purchase Discount_Used  \\\n",
       "995          PayPal          7/7/2024          True   \n",
       "996            Cash         3/28/2024          True   \n",
       "997     Credit Card         3/11/2024          True   \n",
       "998            Cash         3/30/2024          True   \n",
       "999           Other         12/8/2024         False   \n",
       "\n",
       "    Customer_Loyalty_Program_Member  Purchase_Intent  Shipping_Preference  \\\n",
       "995                           False       Need-based             Standard   \n",
       "996                           False      Wants-based        No Preference   \n",
       "997                            True      Wants-based              Express   \n",
       "998                            True        Impulsive             Standard   \n",
       "999                           False          Planned              Express   \n",
       "\n",
       "    Time_to_Decision  \n",
       "995                5  \n",
       "996                9  \n",
       "997                9  \n",
       "998                8  \n",
       "999                2  \n",
       "\n",
       "[5 rows x 28 columns]"
      ]
     },
     "execution_count": 3,
     "metadata": {},
     "output_type": "execute_result"
    }
   ],
   "source": [
    "ecommerce_data.tail() #display the last 5 rows of the dataframe"
   ]
  },
  {
   "cell_type": "code",
   "execution_count": 4,
   "metadata": {},
   "outputs": [
    {
     "name": "stdout",
     "output_type": "stream",
     "text": [
      "<class 'pandas.core.frame.DataFrame'>\n",
      "RangeIndex: 1000 entries, 0 to 999\n",
      "Data columns (total 28 columns):\n",
      " #   Column                                 Non-Null Count  Dtype  \n",
      "---  ------                                 --------------  -----  \n",
      " 0   Customer_ID                            1000 non-null   object \n",
      " 1   Age                                    1000 non-null   int64  \n",
      " 2   Gender                                 1000 non-null   object \n",
      " 3   Income_Level                           1000 non-null   object \n",
      " 4   Marital_Status                         1000 non-null   object \n",
      " 5   Education_Level                        1000 non-null   object \n",
      " 6   Occupation                             1000 non-null   object \n",
      " 7   Location                               1000 non-null   object \n",
      " 8   Purchase_Category                      1000 non-null   object \n",
      " 9   Purchase_Amount                        1000 non-null   object \n",
      " 10  Frequency_of_Purchase                  1000 non-null   int64  \n",
      " 11  Purchase_Channel                       1000 non-null   object \n",
      " 12  Brand_Loyalty                          1000 non-null   int64  \n",
      " 13  Product_Rating                         1000 non-null   int64  \n",
      " 14  Time_Spent_on_Product_Research(hours)  1000 non-null   float64\n",
      " 15  Social_Media_Influence                 753 non-null    object \n",
      " 16  Discount_Sensitivity                   1000 non-null   object \n",
      " 17  Return_Rate                            1000 non-null   int64  \n",
      " 18  Customer_Satisfaction                  1000 non-null   int64  \n",
      " 19  Engagement_with_Ads                    744 non-null    object \n",
      " 20  Device_Used_for_Shopping               1000 non-null   object \n",
      " 21  Payment_Method                         1000 non-null   object \n",
      " 22  Time_of_Purchase                       1000 non-null   object \n",
      " 23  Discount_Used                          1000 non-null   bool   \n",
      " 24  Customer_Loyalty_Program_Member        1000 non-null   bool   \n",
      " 25  Purchase_Intent                        1000 non-null   object \n",
      " 26  Shipping_Preference                    1000 non-null   object \n",
      " 27  Time_to_Decision                       1000 non-null   int64  \n",
      "dtypes: bool(2), float64(1), int64(7), object(18)\n",
      "memory usage: 205.2+ KB\n"
     ]
    }
   ],
   "source": [
    "ecommerce_data.info() #display the information about the dataframe"
   ]
  },
  {
   "cell_type": "code",
   "execution_count": 5,
   "metadata": {},
   "outputs": [
    {
     "data": {
      "text/plain": [
       "Index(['Customer_ID', 'Age', 'Gender', 'Income_Level', 'Marital_Status',\n",
       "       'Education_Level', 'Occupation', 'Location', 'Purchase_Category',\n",
       "       'Purchase_Amount', 'Frequency_of_Purchase', 'Purchase_Channel',\n",
       "       'Brand_Loyalty', 'Product_Rating',\n",
       "       'Time_Spent_on_Product_Research(hours)', 'Social_Media_Influence',\n",
       "       'Discount_Sensitivity', 'Return_Rate', 'Customer_Satisfaction',\n",
       "       'Engagement_with_Ads', 'Device_Used_for_Shopping', 'Payment_Method',\n",
       "       'Time_of_Purchase', 'Discount_Used', 'Customer_Loyalty_Program_Member',\n",
       "       'Purchase_Intent', 'Shipping_Preference', 'Time_to_Decision'],\n",
       "      dtype='object')"
      ]
     },
     "execution_count": 5,
     "metadata": {},
     "output_type": "execute_result"
    }
   ],
   "source": [
    "ecommerce_data.columns #display the columns of the dataframe"
   ]
  },
  {
   "cell_type": "code",
   "execution_count": 6,
   "metadata": {},
   "outputs": [
    {
     "data": {
      "text/html": [
       "<div>\n",
       "<style scoped>\n",
       "    .dataframe tbody tr th:only-of-type {\n",
       "        vertical-align: middle;\n",
       "    }\n",
       "\n",
       "    .dataframe tbody tr th {\n",
       "        vertical-align: top;\n",
       "    }\n",
       "\n",
       "    .dataframe thead th {\n",
       "        text-align: right;\n",
       "    }\n",
       "</style>\n",
       "<table border=\"1\" class=\"dataframe\">\n",
       "  <thead>\n",
       "    <tr style=\"text-align: right;\">\n",
       "      <th></th>\n",
       "      <th>Age</th>\n",
       "      <th>Frequency_of_Purchase</th>\n",
       "      <th>Brand_Loyalty</th>\n",
       "      <th>Product_Rating</th>\n",
       "      <th>Time_Spent_on_Product_Research(hours)</th>\n",
       "      <th>Return_Rate</th>\n",
       "      <th>Customer_Satisfaction</th>\n",
       "      <th>Time_to_Decision</th>\n",
       "    </tr>\n",
       "  </thead>\n",
       "  <tbody>\n",
       "    <tr>\n",
       "      <th>count</th>\n",
       "      <td>1000.000000</td>\n",
       "      <td>1000.000000</td>\n",
       "      <td>1000.000000</td>\n",
       "      <td>1000.000000</td>\n",
       "      <td>1000.000000</td>\n",
       "      <td>1000.000000</td>\n",
       "      <td>1000.000000</td>\n",
       "      <td>1000.000000</td>\n",
       "    </tr>\n",
       "    <tr>\n",
       "      <th>mean</th>\n",
       "      <td>34.304000</td>\n",
       "      <td>6.945000</td>\n",
       "      <td>3.026000</td>\n",
       "      <td>3.033000</td>\n",
       "      <td>1.013030</td>\n",
       "      <td>0.954000</td>\n",
       "      <td>5.399000</td>\n",
       "      <td>7.547000</td>\n",
       "    </tr>\n",
       "    <tr>\n",
       "      <th>std</th>\n",
       "      <td>9.353238</td>\n",
       "      <td>3.147361</td>\n",
       "      <td>1.416803</td>\n",
       "      <td>1.436654</td>\n",
       "      <td>0.791802</td>\n",
       "      <td>0.810272</td>\n",
       "      <td>2.868454</td>\n",
       "      <td>4.035849</td>\n",
       "    </tr>\n",
       "    <tr>\n",
       "      <th>min</th>\n",
       "      <td>18.000000</td>\n",
       "      <td>2.000000</td>\n",
       "      <td>1.000000</td>\n",
       "      <td>1.000000</td>\n",
       "      <td>0.000000</td>\n",
       "      <td>0.000000</td>\n",
       "      <td>1.000000</td>\n",
       "      <td>1.000000</td>\n",
       "    </tr>\n",
       "    <tr>\n",
       "      <th>25%</th>\n",
       "      <td>26.000000</td>\n",
       "      <td>4.000000</td>\n",
       "      <td>2.000000</td>\n",
       "      <td>2.000000</td>\n",
       "      <td>0.000000</td>\n",
       "      <td>0.000000</td>\n",
       "      <td>3.000000</td>\n",
       "      <td>4.000000</td>\n",
       "    </tr>\n",
       "    <tr>\n",
       "      <th>50%</th>\n",
       "      <td>34.500000</td>\n",
       "      <td>7.000000</td>\n",
       "      <td>3.000000</td>\n",
       "      <td>3.000000</td>\n",
       "      <td>1.000000</td>\n",
       "      <td>1.000000</td>\n",
       "      <td>5.000000</td>\n",
       "      <td>8.000000</td>\n",
       "    </tr>\n",
       "    <tr>\n",
       "      <th>75%</th>\n",
       "      <td>42.000000</td>\n",
       "      <td>10.000000</td>\n",
       "      <td>4.000000</td>\n",
       "      <td>4.000000</td>\n",
       "      <td>2.000000</td>\n",
       "      <td>2.000000</td>\n",
       "      <td>8.000000</td>\n",
       "      <td>11.000000</td>\n",
       "    </tr>\n",
       "    <tr>\n",
       "      <th>max</th>\n",
       "      <td>50.000000</td>\n",
       "      <td>12.000000</td>\n",
       "      <td>5.000000</td>\n",
       "      <td>5.000000</td>\n",
       "      <td>2.000000</td>\n",
       "      <td>2.000000</td>\n",
       "      <td>10.000000</td>\n",
       "      <td>14.000000</td>\n",
       "    </tr>\n",
       "  </tbody>\n",
       "</table>\n",
       "</div>"
      ],
      "text/plain": [
       "               Age  Frequency_of_Purchase  Brand_Loyalty  Product_Rating  \\\n",
       "count  1000.000000            1000.000000    1000.000000     1000.000000   \n",
       "mean     34.304000               6.945000       3.026000        3.033000   \n",
       "std       9.353238               3.147361       1.416803        1.436654   \n",
       "min      18.000000               2.000000       1.000000        1.000000   \n",
       "25%      26.000000               4.000000       2.000000        2.000000   \n",
       "50%      34.500000               7.000000       3.000000        3.000000   \n",
       "75%      42.000000              10.000000       4.000000        4.000000   \n",
       "max      50.000000              12.000000       5.000000        5.000000   \n",
       "\n",
       "       Time_Spent_on_Product_Research(hours)  Return_Rate  \\\n",
       "count                            1000.000000  1000.000000   \n",
       "mean                                1.013030     0.954000   \n",
       "std                                 0.791802     0.810272   \n",
       "min                                 0.000000     0.000000   \n",
       "25%                                 0.000000     0.000000   \n",
       "50%                                 1.000000     1.000000   \n",
       "75%                                 2.000000     2.000000   \n",
       "max                                 2.000000     2.000000   \n",
       "\n",
       "       Customer_Satisfaction  Time_to_Decision  \n",
       "count            1000.000000       1000.000000  \n",
       "mean                5.399000          7.547000  \n",
       "std                 2.868454          4.035849  \n",
       "min                 1.000000          1.000000  \n",
       "25%                 3.000000          4.000000  \n",
       "50%                 5.000000          8.000000  \n",
       "75%                 8.000000         11.000000  \n",
       "max                10.000000         14.000000  "
      ]
     },
     "execution_count": 6,
     "metadata": {},
     "output_type": "execute_result"
    }
   ],
   "source": [
    "ecommerce_data.describe() #display the summary statistics of the dataframe\n"
   ]
  },
  {
   "cell_type": "markdown",
   "metadata": {},
   "source": [
    "# Checking for missing values in the dataframe"
   ]
  },
  {
   "cell_type": "code",
   "execution_count": 7,
   "metadata": {},
   "outputs": [
    {
     "data": {
      "text/plain": [
       "True"
      ]
     },
     "execution_count": 7,
     "metadata": {},
     "output_type": "execute_result"
    }
   ],
   "source": [
    "missing_values = ecommerce_data.isnull().values.any() #check for missing values in the dataframe\n",
    "missing_values\n"
   ]
  },
  {
   "cell_type": "code",
   "execution_count": 8,
   "metadata": {},
   "outputs": [
    {
     "data": {
      "text/plain": [
       "Customer_ID                                0\n",
       "Age                                        0\n",
       "Gender                                     0\n",
       "Income_Level                               0\n",
       "Marital_Status                             0\n",
       "Education_Level                            0\n",
       "Occupation                                 0\n",
       "Location                                   0\n",
       "Purchase_Category                          0\n",
       "Purchase_Amount                            0\n",
       "Frequency_of_Purchase                      0\n",
       "Purchase_Channel                           0\n",
       "Brand_Loyalty                              0\n",
       "Product_Rating                             0\n",
       "Time_Spent_on_Product_Research(hours)      0\n",
       "Social_Media_Influence                   247\n",
       "Discount_Sensitivity                       0\n",
       "Return_Rate                                0\n",
       "Customer_Satisfaction                      0\n",
       "Engagement_with_Ads                      256\n",
       "Device_Used_for_Shopping                   0\n",
       "Payment_Method                             0\n",
       "Time_of_Purchase                           0\n",
       "Discount_Used                              0\n",
       "Customer_Loyalty_Program_Member            0\n",
       "Purchase_Intent                            0\n",
       "Shipping_Preference                        0\n",
       "Time_to_Decision                           0\n",
       "dtype: int64"
      ]
     },
     "execution_count": 8,
     "metadata": {},
     "output_type": "execute_result"
    }
   ],
   "source": [
    "missing_values = ecommerce_data.isnull().sum() #check for missing values in the dataframe\n",
    "missing_values"
   ]
  },
  {
   "cell_type": "markdown",
   "metadata": {},
   "source": [
    "# I've checked to see why Social_Media_Influence and Engagement_with_Ads have missing values and their values are equivalent to None, they just have no ratings"
   ]
  },
  {
   "cell_type": "markdown",
   "metadata": {},
   "source": [
    "# How many customers in the dataset"
   ]
  },
  {
   "cell_type": "code",
   "execution_count": 9,
   "metadata": {},
   "outputs": [
    {
     "data": {
      "text/plain": [
       "1000"
      ]
     },
     "execution_count": 9,
     "metadata": {},
     "output_type": "execute_result"
    }
   ],
   "source": [
    "customer_count = ecommerce_data['Customer_ID'].nunique() #count the number of unique customers in the dataframe\n",
    "customer_count"
   ]
  },
  {
   "cell_type": "markdown",
   "metadata": {},
   "source": [
    "# Average age of customers"
   ]
  },
  {
   "cell_type": "code",
   "execution_count": 10,
   "metadata": {},
   "outputs": [
    {
     "data": {
      "text/plain": [
       "34.304"
      ]
     },
     "execution_count": 10,
     "metadata": {},
     "output_type": "execute_result"
    }
   ],
   "source": [
    "average_age_customer = ecommerce_data['Age'].mean() #calculate the average age of the customers in the dataframe\n",
    "average_age_customer"
   ]
  },
  {
   "cell_type": "markdown",
   "metadata": {},
   "source": [
    "# what are the most common income levels among customers"
   ]
  },
  {
   "cell_type": "code",
   "execution_count": 11,
   "metadata": {},
   "outputs": [
    {
     "data": {
      "text/plain": [
       "Customer_ID  Income_Level\n",
       "00-107-4749  Middle          1\n",
       "00-149-4481  High            1\n",
       "00-264-3797  Middle          1\n",
       "00-265-0556  Middle          1\n",
       "00-275-9990  Middle          1\n",
       "                            ..\n",
       "99-509-4653  High            1\n",
       "99-581-5577  High            1\n",
       "99-643-9845  Middle          1\n",
       "99-771-9310  High            1\n",
       "99-945-7193  Middle          1\n",
       "Name: count, Length: 1000, dtype: int64"
      ]
     },
     "execution_count": 11,
     "metadata": {},
     "output_type": "execute_result"
    }
   ],
   "source": [
    "common_income_level = ecommerce_data.groupby('Customer_ID')['Income_Level'].value_counts() #find the most common income level in the dataframe\n",
    "common_income_level"
   ]
  },
  {
   "cell_type": "code",
   "execution_count": 12,
   "metadata": {},
   "outputs": [
    {
     "data": {
      "image/png": "[encoded data removed]",
      "text/plain": [
       "<Figure size 500x400 with 1 Axes>"
      ]
     },
     "metadata": {},
     "output_type": "display_data"
    }
   ],
   "source": [
    "common_income_level = ecommerce_data['Income_Level'].value_counts() #find the most common income level in the dataframe\n",
    "\n",
    "plt.figure(figsize=(5,4)) #piechcart of the most common income level in the dataframe\n",
    "plt.pie(common_income_level, labels=common_income_level.index, autopct='%1.1f%%', colors=['red', 'blue'], \n",
    "        startangle=90, explode = (0.06, 0), shadow=True) \n",
    "plt.title(\"Income Level Distribution\")\n",
    "plt.show()"
   ]
  },
  {
   "cell_type": "markdown",
   "metadata": {},
   "source": [
    "# Most common income level"
   ]
  },
  {
   "cell_type": "code",
   "execution_count": 13,
   "metadata": {},
   "outputs": [
    {
     "data": {
      "text/plain": [
       "'High'"
      ]
     },
     "execution_count": 13,
     "metadata": {},
     "output_type": "execute_result"
    }
   ],
   "source": [
    "most_common_income = ecommerce_data['Income_Level'].mode()[0]  \n",
    "most_common_income"
   ]
  },
  {
   "cell_type": "markdown",
   "metadata": {},
   "source": [
    "# Average age of customers"
   ]
  },
  {
   "cell_type": "code",
   "execution_count": 14,
   "metadata": {},
   "outputs": [
    {
     "data": {
      "text/plain": [
       "34.0"
      ]
     },
     "execution_count": 14,
     "metadata": {},
     "output_type": "execute_result"
    }
   ],
   "source": [
    "avrg_age = ecommerce_data['Age'].mean() \n",
    "avrg_age.round(0)"
   ]
  },
  {
   "cell_type": "markdown",
   "metadata": {},
   "source": [
    "# Average product rating out of 5\n"
   ]
  },
  {
   "cell_type": "code",
   "execution_count": 23,
   "metadata": {},
   "outputs": [
    {
     "data": {
      "text/plain": [
       "3.033"
      ]
     },
     "execution_count": 23,
     "metadata": {},
     "output_type": "execute_result"
    }
   ],
   "source": [
    "product_average = ecommerce_data['Product_Rating'].mean()\n",
    "product_average"
   ]
  },
  {
   "cell_type": "markdown",
   "metadata": {},
   "source": [
    "# Top 5 most purchased product categories "
   ]
  },
  {
   "cell_type": "code",
   "execution_count": 40,
   "metadata": {},
   "outputs": [
    {
     "data": {
      "text/plain": [
       "Purchase_Category\n",
       "Electronics              54\n",
       "Sports & Outdoors        51\n",
       "Jewelry & Accessories    50\n",
       "Home Appliances          50\n",
       "Toys & Games             47\n",
       "Name: count, dtype: int64"
      ]
     },
     "execution_count": 40,
     "metadata": {},
     "output_type": "execute_result"
    }
   ],
   "source": [
    "most_purchased_products = ecommerce_data['Purchase_Category'].value_counts().head(5)\n",
    "most_purchased_products"
   ]
  },
  {
   "cell_type": "code",
   "execution_count": 42,
   "metadata": {},
   "outputs": [
    {
     "data": {
      "text/plain": [
       "Text(0.5, 1.0, 'Most Purchased product categories')"
      ]
     },
     "execution_count": 42,
     "metadata": {},
     "output_type": "execute_result"
    },
    {
     "data": {
      "image/png": "[encoded data removed]",
      "text/plain": [
       "<Figure size 640x480 with 1 Axes>"
      ]
     },
     "metadata": {},
     "output_type": "display_data"
    }
   ],
   "source": [
    "sns.barplot(x=most_purchased_products.index, y=most_purchased_products.values) #barplot of the most purchased product categories\n",
    "plt.xticks(rotation=45) \n",
    "plt.title('Most Purchased product categories')"
   ]
  },
  {
   "cell_type": "markdown",
   "metadata": {},
   "source": [
    "# What is the average purchase amount for customers in each income level"
   ]
  },
  {
   "cell_type": "code",
   "execution_count": 57,
   "metadata": {},
   "outputs": [
    {
     "name": "stderr",
     "output_type": "stream",
     "text": [
      "<>:2: SyntaxWarning: invalid escape sequence '\\$'\n",
      "<>:2: SyntaxWarning: invalid escape sequence '\\$'\n",
      "C:\\Users\\ayoda\\AppData\\Local\\Temp\\ipykernel_17860\\1275808633.py:2: SyntaxWarning: invalid escape sequence '\\$'\n",
      "  ecommerce_data['Purchase_Amount'] = ecommerce_data['Purchase_Amount'].replace('[\\$,]', '', regex=True).astype(float)\n"
     ]
    },
    {
     "data": {
      "text/plain": [
       "Income_Level\n",
       "High      275.51\n",
       "Middle    274.59\n",
       "Name: Purchase_Amount, dtype: float64"
      ]
     },
     "execution_count": 57,
     "metadata": {},
     "output_type": "execute_result"
    }
   ],
   "source": [
    "# Remove dollar signs and convert Purchase_Amount to numeric\n",
    "ecommerce_data['Purchase_Amount'] = ecommerce_data['Purchase_Amount'].replace('[\\$,]', '', regex=True).astype(float)\n",
    "\n",
    "# Calculate the average purchase amount\n",
    "avrg_purchase_amount = ecommerce_data.groupby('Income_Level')['Purchase_Amount'].mean()\n",
    "avrg_purchase_amount.round(2)"
   ]
  },
  {
   "cell_type": "code",
   "execution_count": 60,
   "metadata": {},
   "outputs": [
    {
     "data": {
      "image/png": "[encoded data removed]",
      "text/plain": [
       "<Figure size 1000x600 with 1 Axes>"
      ]
     },
     "metadata": {},
     "output_type": "display_data"
    }
   ],
   "source": [
    "# Plot the bar chart\n",
    "plt.figure(figsize=(10, 6))\n",
    "avrg_purchase_amount.plot(kind='bar', color='skyblue')\n",
    "\n",
    "# Add labels and title\n",
    "plt.xlabel('Income Level')\n",
    "plt.ylabel('Average Purchase Amount ($)')\n",
    "plt.title('Average Purchase Amount by Income Level')\n",
    "\n",
    "# Add value labels on top of each bar\n",
    "for i, v in enumerate(avrg_purchase_amount):\n",
    "    plt.text(i, v + 5, f'${v:.2f}', ha='center')\n",
    "\n",
    "# Adjust layout and display\n",
    "plt.tight_layout()\n",
    "plt.grid(axis='y', linestyle='--', alpha=0.7)\n",
    "plt.show()"
   ]
  },
  {
   "cell_type": "markdown",
   "metadata": {},
   "source": [
    "# Most preferred payment method"
   ]
  },
  {
   "cell_type": "code",
   "execution_count": 67,
   "metadata": {},
   "outputs": [
    {
     "data": {
      "text/plain": [
       "'PayPal'"
      ]
     },
     "execution_count": 67,
     "metadata": {},
     "output_type": "execute_result"
    }
   ],
   "source": [
    "preferred_payment_method = ecommerce_data['Payment_Method'].mode()[0] #find the most preferred payment method\n",
    "preferred_payment_method"
   ]
  },
  {
   "cell_type": "code",
   "execution_count": 84,
   "metadata": {},
   "outputs": [
    {
     "data": {
      "image/png": "[encoded data removed]",
      "text/plain": [
       "<Figure size 500x400 with 1 Axes>"
      ]
     },
     "metadata": {},
     "output_type": "display_data"
    }
   ],
   "source": [
    "preferred_payment_method = ecommerce_data['Payment_Method'].value_counts() #find the most preferred payment method\n",
    "\n",
    "plt.figure(figsize=(5,4)) #piechart of the most preferred payment method\n",
    "plt.pie(preferred_payment_method, labels=preferred_payment_method.index, autopct='%1.1f%%', colors=['red', 'blue', 'green', 'yellow', 'purple'], \n",
    "        startangle=90, shadow=True)\n",
    "plt.title(\"Preferred Payment Method\")\n",
    "plt.show()"
   ]
  },
  {
   "cell_type": "markdown",
   "metadata": {},
   "source": [
    "# How does discount sensitivity correlate with customer satisfaction?"
   ]
  },
  {
   "cell_type": "code",
   "execution_count": 88,
   "metadata": {},
   "outputs": [
    {
     "data": {
      "text/plain": [
       "Discount_Sensitivity\n",
       "Not Sensitive         5.0\n",
       "Somewhat Sensitive    6.0\n",
       "Very Sensitive        5.0\n",
       "Name: Customer_Satisfaction, dtype: float64"
      ]
     },
     "execution_count": 88,
     "metadata": {},
     "output_type": "execute_result"
    }
   ],
   "source": [
    "discount_vs_satisfaction = ecommerce_data.groupby('Discount_Sensitivity')['Customer_Satisfaction'].mean()  # Discount vs Satisfaction\n",
    "discount_vs_satisfaction.round()\n"
   ]
  }
 ],
 "metadata": {
  "kernelspec": {
   "display_name": "base",
   "language": "python",
   "name": "python3"
  },
  "language_info": {
   "codemirror_mode": {
    "name": "ipython",
    "version": 3
   },
   "file_extension": ".py",
   "mimetype": "text/x-python",
   "name": "python",
   "nbconvert_exporter": "python",
   "pygments_lexer": "ipython3",
   "version": "3.12.7"
  }
 },
 "nbformat": 4,
 "nbformat_minor": 2
}
